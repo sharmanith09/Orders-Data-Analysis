{
 "cells": [
  {
   "cell_type": "code",
   "execution_count": 5,
   "id": "a325ce00-55a2-4adf-b20d-1bcf6be4a766",
   "metadata": {},
   "outputs": [],
   "source": [
    "#import libraries\n",
    "#!pip install kaggle\n",
    "import kaggle\n",
    "import pandas as pd\n"
   ]
  },
  {
   "cell_type": "code",
   "execution_count": 79,
   "id": "49961003-10a8-4d2d-84bc-5bc53393bc1c",
   "metadata": {},
   "outputs": [],
   "source": [
    "#read data from the file and handle null values\n",
    "df = pd.read_csv('orders.csv', na_values = ['Not Available' ,'unknown'])\n",
    "#df['Ship Mode'].unique()"
   ]
  },
  {
   "cell_type": "code",
   "execution_count": 75,
   "id": "48f42143-ee1c-41ac-a177-74a39d9d2f8f",
   "metadata": {},
   "outputs": [],
   "source": [
    "#rename columns names ..make them lower case and replace space with underscore\n",
    "df.columns = df.columns.str.lower()\n",
    "df.columns = df.columns.str.replace(' ','_')"
   ]
  },
  {
   "cell_type": "code",
   "execution_count": 47,
   "id": "7e354e67-0ebd-4597-b1fe-ee467f773956",
   "metadata": {},
   "outputs": [],
   "source": [
    "#derive new columns discount , sale price and profit\n",
    "df['discount'] = df['list_price']*df['discount_percent']*0.01\n",
    "df['sale_price'] = df['list_price']- df['discount']\n",
    "df['profit'] = df['sale_price']- df['cost_price']  \n"
   ]
  },
  {
   "cell_type": "code",
   "execution_count": 57,
   "id": "d1f2728c-381a-4103-8c57-0b46d96289e2",
   "metadata": {},
   "outputs": [],
   "source": [
    "#convert order date from object data type to datetime\n",
    "df['order_date'] = pd.to_datetime(df['order_date'] , format =\"%Y-%m-%d\")"
   ]
  },
  {
   "cell_type": "code",
   "execution_count": 65,
   "id": "1c821c0b-f9a2-40ab-8a15-9c4f5b0ad9e3",
   "metadata": {},
   "outputs": [],
   "source": [
    "#drop cost price list price and discount percent columns\n",
    "df.drop(columns = ['list_price', 'cost_price','discount_percent'], inplace = True)"
   ]
  },
  {
   "cell_type": "code",
   "execution_count": 71,
   "id": "fd84bd27-4052-41a9-ae45-ebed3342b9a5",
   "metadata": {},
   "outputs": [],
   "source": [
    "#load the data into sql server using replace option\n",
    "import sqlalchemy as sal\n",
    "engine = sal.create_engine(r'mssql://MSI\\SQLEXPRESS/namastesql?driver=ODBC+DRIVER+17+FOR+SQL+SERVER')\n",
    "conn=engine.connect()"
   ]
  },
  {
   "cell_type": "code",
   "execution_count": 73,
   "id": "f5242bbb-cd7c-4e9c-a05c-3b2d998936eb",
   "metadata": {},
   "outputs": [
    {
     "data": {
      "text/plain": [
       "38"
      ]
     },
     "execution_count": 73,
     "metadata": {},
     "output_type": "execute_result"
    }
   ],
   "source": [
    "df.to_sql('df_orders', con=conn , index=False, if_exists = 'replace')"
   ]
  },
  {
   "cell_type": "code",
   "execution_count": null,
   "id": "e7039716-1201-4d51-9b38-bdd0d12a6dc7",
   "metadata": {},
   "outputs": [],
   "source": []
  }
 ],
 "metadata": {
  "kernelspec": {
   "display_name": "Python 3 (ipykernel)",
   "language": "python",
   "name": "python3"
  },
  "language_info": {
   "codemirror_mode": {
    "name": "ipython",
    "version": 3
   },
   "file_extension": ".py",
   "mimetype": "text/x-python",
   "name": "python",
   "nbconvert_exporter": "python",
   "pygments_lexer": "ipython3",
   "version": "3.12.4"
  }
 },
 "nbformat": 4,
 "nbformat_minor": 5
}
